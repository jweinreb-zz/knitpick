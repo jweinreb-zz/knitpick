{
 "cells": [
  {
   "cell_type": "code",
   "execution_count": 1,
   "metadata": {},
   "outputs": [],
   "source": [
    "import os\n",
    "import re\n",
    "import numpy as np\n",
    "import matplotlib.pyplot as plt\n",
    "import psycopg2\n",
    "import pandas as pd\n",
    "import seaborn as sns\n",
    "\n",
    "from sklearn.metrics import confusion_matrix, f1_score\n",
    "from sklearn.metrics import mean_squared_error, median_absolute_error\n",
    "from sklearn.compose import ColumnTransformer, make_column_transformer\n",
    "from sklearn.pipeline import make_pipeline\n",
    "from sklearn.linear_model import LogisticRegression, SGDClassifier\n",
    "from sklearn.preprocessing import StandardScaler, OneHotEncoder\n",
    "from sklearn.compose import ColumnTransformer, make_column_transformer\n",
    "from sklearn.model_selection import GridSearchCV, train_test_split\n",
    "from sklearn.ensemble import RandomForestRegressor\n",
    "from sklearn.model_selection import RandomizedSearchCV\n",
    "from sklearn.ensemble import RandomForestRegressor\n",
    "from sklearn.linear_model import ElasticNet, ElasticNetCV\n",
    "\n",
    "from joblib import dump, load\n",
    "\n",
    "from skopt import BayesSearchCV\n",
    "from skopt.space import Real, Categorical, Integer\n",
    "\n",
    "conn_dict = {'host': 'localhost',\n",
    "        'dbname': 'insight',\n",
    "        'user': os.getenv('PG_USER'),\n",
    "        'password': os.getenv('PG_PASSWORD')}\n",
    "\n",
    "with psycopg2.connect(**conn_dict) as conn, conn.cursor() as cur:\n",
    "    cur.execute('SELECT * FROM patterns3')\n",
    "    res = cur.fetchall()\n",
    "    cols = [desc[0] for desc in cur.description]\n",
    "\n",
    "df = pd.DataFrame(res, columns=cols)"
   ]
  },
  {
   "cell_type": "code",
   "execution_count": 2,
   "metadata": {},
   "outputs": [],
   "source": [
    "df.loc[:, 'pubyear'] = df.published.apply(lambda x: x.year if pd.notnull(x) else None)\n",
    "df.loc[:, 'buttoned_mod'] = df[['attribute_buttoned', 'attribute_buttonholes']].max(axis=1)"
   ]
  },
  {
   "cell_type": "code",
   "execution_count": 3,
   "metadata": {},
   "outputs": [],
   "source": [
    "patt_ann = df[pd.notnull(df.pubyear)].groupby('pubyear').count()\\\n",
    "                                     .reset_index()[['pubyear', 'comments_count']]\\\n",
    "                                     .rename(columns={'comments_count':'n_patterns'})\n",
    "patt_ann = patt_ann[patt_ann.pubyear.isin(np.arange(2000, 2019))]"
   ]
  },
  {
   "cell_type": "code",
   "execution_count": 5,
   "metadata": {},
   "outputs": [
    {
     "data": {
      "text/plain": [
       "([<matplotlib.axis.XTick at 0x1a3e5e3450>,\n",
       "  <matplotlib.axis.XTick at 0x1a3e5c9bd0>,\n",
       "  <matplotlib.axis.XTick at 0x1204b96d0>,\n",
       "  <matplotlib.axis.XTick at 0x1a3da66990>,\n",
       "  <matplotlib.axis.XTick at 0x1a3da66390>,\n",
       "  <matplotlib.axis.XTick at 0x1a3da669d0>,\n",
       "  <matplotlib.axis.XTick at 0x1a3da75050>],\n",
       " <a list of 7 Text xticklabel objects>)"
      ]
     },
     "execution_count": 5,
     "metadata": {},
     "output_type": "execute_result"
    },
    {
     "data": {
      "image/png": "[encoded data removed]",
      "text/plain": [
       "<Figure size 432x288 with 1 Axes>"
      ]
     },
     "metadata": {
      "needs_background": "light"
     },
     "output_type": "display_data"
    }
   ],
   "source": [
    "fig, ax = plt.subplots()\n",
    "sns.lineplot(x=\"pubyear\", y=\"n_patterns\", data=patt_ann, ax=ax)\n",
    "ax.set_xlabel('')\n",
    "ax.set_ylabel('# patterns')\n",
    "ax.set_title('Patterns published by year')\n",
    "plt.xticks(np.arange(2000, 2019, 3))\n",
    "#fig.savefig('pattern_by_year.png')"
   ]
  },
  {
   "cell_type": "code",
   "execution_count": 4,
   "metadata": {},
   "outputs": [],
   "source": [
    "proj_ann = df[pd.notnull(df.pubyear)].groupby('pubyear').count()\\\n",
    "                                     .reset_index()[['pubyear', 'comments_count']]\\\n",
    "                                     .rename(columns={'comments_count':'n_patterns'})\n",
    "patt_ann = patt_ann[patt_ann.pubyear.isin(np.arange(2000, 2019))]"
   ]
  },
  {
   "cell_type": "code",
   "execution_count": 5,
   "metadata": {},
   "outputs": [],
   "source": [
    "attribute_cols = [a for a in df.columns if a.startswith('attribute_')]\n",
    "att_df = df[attribute_cols].sum(axis=0).reset_index().sort_values(0, ascending=False)\n",
    "att_df.columns = ['attribute', 'pattern_count']\n",
    "att_df.loc[:, 'pattern_share'] = att_df.pattern_count / df.shape[0]\n",
    "att_df = att_df[att_df.pattern_share >= 0.05]"
   ]
  },
  {
   "cell_type": "code",
   "execution_count": 6,
   "metadata": {},
   "outputs": [],
   "source": [
    "attribute_cols = list(att_df.attribute[att_df.pattern_share >= 0.05])\n",
    "attribute_cols.remove('attribute_written_pattern')\n",
    "attribute_cols.remove('attribute_buttonholes')\n",
    "attribute_cols.remove('attribute_buttoned')"
   ]
  },
  {
   "cell_type": "code",
   "execution_count": 7,
   "metadata": {},
   "outputs": [
    {
     "data": {
      "text/plain": [
       "['needles_us_6',\n",
       " 'needles_us_7',\n",
       " 'needles_us_4',\n",
       " 'needles_us_8',\n",
       " 'needles_us_5',\n",
       " 'needles_us_3',\n",
       " 'needles_us_2h',\n",
       " 'needles_us_10',\n",
       " 'needles_us_9',\n",
       " 'needles_us_1h',\n",
       " 'needles_us_2',\n",
       " 'needles_us_1',\n",
       " 'needles_us_11',\n",
       " 'needles_us_10h',\n",
       " 'needles_us_13',\n",
       " 'needles_us_15',\n",
       " 'needles_us_0']"
      ]
     },
     "execution_count": 7,
     "metadata": {},
     "output_type": "execute_result"
    }
   ],
   "source": [
    "needles_cols = [n for n in df.columns if n.startswith('needle')]\n",
    "needles_df = df[needles_cols].sum(axis=0).reset_index().sort_values(0, ascending=False)\n",
    "needles_df.columns = ['needle', 'pattern_count']\n",
    "needles_df.loc[:, 'pattern_share'] = needles_df.pattern_count / df.shape[0]\n",
    "needles_df = needles_df[needles_df.pattern_share >= 0.01]\n",
    "needles_cols = list(needles_df.needle[needles_df.pattern_share >= 0.01])\n",
    "needles_cols"
   ]
  },
  {
   "cell_type": "code",
   "execution_count": 14,
   "metadata": {},
   "outputs": [],
   "source": [
    "#numeric_cols = ['projects_count', 'queued_projects_count', 'rating_average','comments_count',\n",
    "#                'difficulty_average','num_photos', 'author_pattern_count','author_favorites_count']\n",
    "\n",
    "numeric_cols = ['difficulty_average','num_photos']\n",
    "cat_cols = ['pattern_type','yarn_weight']\n",
    "\n",
    "attribute_cols = ['buttoned_mod',\n",
    "                  'attribute_adult', #\n",
    "                  'attribute_female',#\n",
    "                  'attribute_worked_flat',#\n",
    "                  'attribute_worked_in_the_round',#\n",
    "                  'attribute_chart',#\n",
    "                  'attribute_bottom_up',#\n",
    "                  'attribute_one_piece',#\n",
    "                  'attribute_unisex',#\n",
    "                  'attribute_seamed',#\n",
    "                  'attribute_lace',#\n",
    "                  'attribute_teen',#\n",
    "                  'attribute_ribbed_ribbing',#\n",
    "                  'attribute_textured',#\n",
    "                  'attribute_cables',#\n",
    "                  'attribute_stripes_colorwork',#\n",
    "                  'attribute_top_down',#\n",
    "                  'attribute_child',#\n",
    "                  'attribute_long',#\n",
    "                  'attribute_stranded',#\n",
    "                  'attribute_baby',#\n",
    "                  'attribute_positive_ease',#\n",
    "                  'attribute_has_schematic',#\n",
    "                  'attribute_male',#\n",
    "                  'attribute_eyelets',#\n",
    "                  'attribute_toddler', #\n",
    "                  'attribute_fitted',#\n",
    "                  'attribute_short_rows']\n",
    "\n",
    "needles_cols = ['needles_us_6',\n",
    "                'needles_us_7',\n",
    "                'needles_us_4',\n",
    "                'needles_us_8',\n",
    "                'needles_us_5',\n",
    "                'needles_us_3',\n",
    "                'needles_us_2h',\n",
    "                'needles_us_10',\n",
    "                'needles_us_9',\n",
    "                'needles_us_1h',\n",
    "                'needles_us_2',\n",
    "                'needles_us_1',\n",
    "                'needles_us_11',\n",
    "                'needles_us_10h',\n",
    "                'needles_us_13',\n",
    "                'needles_us_15',\n",
    "                'needles_us_0']"
   ]
  },
  {
   "cell_type": "code",
   "execution_count": 15,
   "metadata": {},
   "outputs": [
    {
     "name": "stderr",
     "output_type": "stream",
     "text": [
      "/Users/jason/anaconda3/envs/insight/lib/python3.7/site-packages/pandas/core/indexing.py:480: SettingWithCopyWarning: \n",
      "A value is trying to be set on a copy of a slice from a DataFrame.\n",
      "Try using .loc[row_indexer,col_indexer] = value instead\n",
      "\n",
      "See the caveats in the documentation: http://pandas.pydata.org/pandas-docs/stable/user_guide/indexing.html#returning-a-view-versus-a-copy\n",
      "  self.obj[item] = s\n"
     ]
    }
   ],
   "source": [
    "df2 = df[pd.notnull(df.price) & (df.currency == 'USD') & (df.price <= 17)]\n",
    "\n",
    "df2.loc[:, 'price'] = df2.price.apply(lambda x: float(x) if pd.notnull(x) else 0)"
   ]
  },
  {
   "cell_type": "code",
   "execution_count": 16,
   "metadata": {},
   "outputs": [],
   "source": [
    "df2 = df2[['price'] + needles_cols + attribute_cols + numeric_cols + cat_cols].dropna()"
   ]
  },
  {
   "cell_type": "code",
   "execution_count": 22,
   "metadata": {},
   "outputs": [
    {
     "name": "stdout",
     "output_type": "stream",
     "text": [
      "X_train shape = (103038, 49)\n"
     ]
    }
   ],
   "source": [
    "X = df2[needles_cols + attribute_cols + numeric_cols + cat_cols]\n",
    "y = df2['price']\n",
    "X_train, X_test, y_train, y_test = train_test_split(X, y, test_size=0.2, random_state=42)\n",
    "print(f'X_train shape = {X_train.shape}')\n",
    "from joblib import load\n",
    "clf = load(\"/Users/jason/Desktop/stage2_reduced_v0.joblib\")"
   ]
  },
  {
   "cell_type": "code",
   "execution_count": 18,
   "metadata": {},
   "outputs": [
    {
     "name": "stderr",
     "output_type": "stream",
     "text": [
      "/Users/jason/anaconda3/envs/insight/lib/python3.7/site-packages/sklearn/pipeline.py:605: DataConversionWarning: Data with input dtype bool, int64, object were all converted to float64 by StandardScaler.\n",
      "  res = transformer.transform(X)\n"
     ]
    }
   ],
   "source": [
    "df2.loc[:, 'pred_price'] = list(clf.predict(X))"
   ]
  },
  {
   "cell_type": "code",
   "execution_count": 19,
   "metadata": {},
   "outputs": [
    {
     "data": {
      "text/html": [
       "<div>\n",
       "<style scoped>\n",
       "    .dataframe tbody tr th:only-of-type {\n",
       "        vertical-align: middle;\n",
       "    }\n",
       "\n",
       "    .dataframe tbody tr th {\n",
       "        vertical-align: top;\n",
       "    }\n",
       "\n",
       "    .dataframe thead th {\n",
       "        text-align: right;\n",
       "    }\n",
       "</style>\n",
       "<table border=\"1\" class=\"dataframe\">\n",
       "  <thead>\n",
       "    <tr style=\"text-align: right;\">\n",
       "      <th></th>\n",
       "      <th>price</th>\n",
       "      <th>needles_us_6</th>\n",
       "      <th>needles_us_7</th>\n",
       "      <th>needles_us_4</th>\n",
       "      <th>needles_us_8</th>\n",
       "      <th>needles_us_5</th>\n",
       "      <th>needles_us_3</th>\n",
       "      <th>needles_us_2h</th>\n",
       "      <th>needles_us_10</th>\n",
       "      <th>needles_us_9</th>\n",
       "      <th>...</th>\n",
       "      <th>attribute_male</th>\n",
       "      <th>attribute_eyelets</th>\n",
       "      <th>attribute_toddler</th>\n",
       "      <th>attribute_fitted</th>\n",
       "      <th>attribute_short_rows</th>\n",
       "      <th>difficulty_average</th>\n",
       "      <th>num_photos</th>\n",
       "      <th>pattern_type</th>\n",
       "      <th>yarn_weight</th>\n",
       "      <th>pred_price</th>\n",
       "    </tr>\n",
       "  </thead>\n",
       "  <tbody>\n",
       "    <tr>\n",
       "      <th>8</th>\n",
       "      <td>14.0</td>\n",
       "      <td>False</td>\n",
       "      <td>False</td>\n",
       "      <td>True</td>\n",
       "      <td>False</td>\n",
       "      <td>False</td>\n",
       "      <td>False</td>\n",
       "      <td>False</td>\n",
       "      <td>False</td>\n",
       "      <td>False</td>\n",
       "      <td>...</td>\n",
       "      <td>False</td>\n",
       "      <td>False</td>\n",
       "      <td>False</td>\n",
       "      <td>False</td>\n",
       "      <td>True</td>\n",
       "      <td>4.904365904365904</td>\n",
       "      <td>9</td>\n",
       "      <td>shawl-wrap</td>\n",
       "      <td>Fingering</td>\n",
       "      <td>6.3270</td>\n",
       "    </tr>\n",
       "    <tr>\n",
       "      <th>14</th>\n",
       "      <td>5.0</td>\n",
       "      <td>True</td>\n",
       "      <td>False</td>\n",
       "      <td>False</td>\n",
       "      <td>False</td>\n",
       "      <td>False</td>\n",
       "      <td>False</td>\n",
       "      <td>False</td>\n",
       "      <td>False</td>\n",
       "      <td>False</td>\n",
       "      <td>...</td>\n",
       "      <td>True</td>\n",
       "      <td>True</td>\n",
       "      <td>False</td>\n",
       "      <td>False</td>\n",
       "      <td>True</td>\n",
       "      <td>2.28</td>\n",
       "      <td>14</td>\n",
       "      <td>shawl-wrap</td>\n",
       "      <td>Fingering</td>\n",
       "      <td>5.3348</td>\n",
       "    </tr>\n",
       "    <tr>\n",
       "      <th>18</th>\n",
       "      <td>7.0</td>\n",
       "      <td>False</td>\n",
       "      <td>False</td>\n",
       "      <td>True</td>\n",
       "      <td>False</td>\n",
       "      <td>False</td>\n",
       "      <td>False</td>\n",
       "      <td>False</td>\n",
       "      <td>False</td>\n",
       "      <td>False</td>\n",
       "      <td>...</td>\n",
       "      <td>False</td>\n",
       "      <td>True</td>\n",
       "      <td>False</td>\n",
       "      <td>False</td>\n",
       "      <td>False</td>\n",
       "      <td>2.7873741285824942</td>\n",
       "      <td>13</td>\n",
       "      <td>shawl-wrap</td>\n",
       "      <td>Fingering</td>\n",
       "      <td>6.7848</td>\n",
       "    </tr>\n",
       "    <tr>\n",
       "      <th>20</th>\n",
       "      <td>5.0</td>\n",
       "      <td>False</td>\n",
       "      <td>True</td>\n",
       "      <td>False</td>\n",
       "      <td>False</td>\n",
       "      <td>False</td>\n",
       "      <td>False</td>\n",
       "      <td>False</td>\n",
       "      <td>False</td>\n",
       "      <td>False</td>\n",
       "      <td>...</td>\n",
       "      <td>False</td>\n",
       "      <td>True</td>\n",
       "      <td>False</td>\n",
       "      <td>False</td>\n",
       "      <td>False</td>\n",
       "      <td>2.275268817204301</td>\n",
       "      <td>8</td>\n",
       "      <td>shawl-wrap</td>\n",
       "      <td>Fingering</td>\n",
       "      <td>5.1750</td>\n",
       "    </tr>\n",
       "    <tr>\n",
       "      <th>21</th>\n",
       "      <td>6.0</td>\n",
       "      <td>True</td>\n",
       "      <td>False</td>\n",
       "      <td>False</td>\n",
       "      <td>False</td>\n",
       "      <td>True</td>\n",
       "      <td>False</td>\n",
       "      <td>False</td>\n",
       "      <td>False</td>\n",
       "      <td>False</td>\n",
       "      <td>...</td>\n",
       "      <td>False</td>\n",
       "      <td>False</td>\n",
       "      <td>False</td>\n",
       "      <td>False</td>\n",
       "      <td>False</td>\n",
       "      <td>2.4852459016393444</td>\n",
       "      <td>17</td>\n",
       "      <td>shawl-wrap</td>\n",
       "      <td>Fingering</td>\n",
       "      <td>6.2249</td>\n",
       "    </tr>\n",
       "  </tbody>\n",
       "</table>\n",
       "<p>5 rows × 51 columns</p>\n",
       "</div>"
      ],
      "text/plain": [
       "    price  needles_us_6  needles_us_7  needles_us_4  needles_us_8  \\\n",
       "8    14.0         False         False          True         False   \n",
       "14    5.0          True         False         False         False   \n",
       "18    7.0         False         False          True         False   \n",
       "20    5.0         False          True         False         False   \n",
       "21    6.0          True         False         False         False   \n",
       "\n",
       "    needles_us_5  needles_us_3  needles_us_2h  needles_us_10  needles_us_9  \\\n",
       "8          False         False          False          False         False   \n",
       "14         False         False          False          False         False   \n",
       "18         False         False          False          False         False   \n",
       "20         False         False          False          False         False   \n",
       "21          True         False          False          False         False   \n",
       "\n",
       "    ...  attribute_male  attribute_eyelets  attribute_toddler  \\\n",
       "8   ...           False              False              False   \n",
       "14  ...            True               True              False   \n",
       "18  ...           False               True              False   \n",
       "20  ...           False               True              False   \n",
       "21  ...           False              False              False   \n",
       "\n",
       "    attribute_fitted  attribute_short_rows  difficulty_average  num_photos  \\\n",
       "8              False                  True   4.904365904365904           9   \n",
       "14             False                  True                2.28          14   \n",
       "18             False                 False  2.7873741285824942          13   \n",
       "20             False                 False   2.275268817204301           8   \n",
       "21             False                 False  2.4852459016393444          17   \n",
       "\n",
       "    pattern_type  yarn_weight  pred_price  \n",
       "8     shawl-wrap    Fingering      6.3270  \n",
       "14    shawl-wrap    Fingering      5.3348  \n",
       "18    shawl-wrap    Fingering      6.7848  \n",
       "20    shawl-wrap    Fingering      5.1750  \n",
       "21    shawl-wrap    Fingering      6.2249  \n",
       "\n",
       "[5 rows x 51 columns]"
      ]
     },
     "execution_count": 19,
     "metadata": {},
     "output_type": "execute_result"
    }
   ],
   "source": [
    "df2.head()"
   ]
  },
  {
   "cell_type": "code",
   "execution_count": 20,
   "metadata": {},
   "outputs": [
    {
     "name": "stderr",
     "output_type": "stream",
     "text": [
      "/Users/jason/anaconda3/envs/insight/lib/python3.7/site-packages/sklearn/preprocessing/data.py:645: DataConversionWarning: Data with input dtype bool, int64, object were all converted to float64 by StandardScaler.\n",
      "  return self.partial_fit(X, y)\n",
      "/Users/jason/anaconda3/envs/insight/lib/python3.7/site-packages/sklearn/base.py:464: DataConversionWarning: Data with input dtype bool, int64, object were all converted to float64 by StandardScaler.\n",
      "  return self.fit(X, **fit_params).transform(X)\n"
     ]
    },
    {
     "data": {
      "text/plain": [
       "<matplotlib.lines.Line2D at 0x1a3ad72a90>"
      ]
     },
     "execution_count": 20,
     "metadata": {},
     "output_type": "execute_result"
    },
    {
     "data": {
      "image/png": "[encoded data removed]",
      "text/plain": [
       "<Figure size 864x576 with 1 Axes>"
      ]
     },
     "metadata": {
      "needs_background": "light"
     },
     "output_type": "display_data"
    }
   ],
   "source": [
    "#clf.named_steps['randomforestregressor'].estimators_\n",
    "#clf.predict(X)\n",
    "#X.iloc[2]\n",
    "X.shape\n",
    "X_trans = clf.named_steps['columntransformer'].fit_transform(X)\n",
    "x = X_trans[2]\n",
    "yest = [clfest.predict(x.reshape(1,-1))[0] for clfest in clf.named_steps['randomforestregressor'].estimators_]\n",
    "fig, ax = plt.subplots()\n",
    "fig.set_size_inches(12, 8)\n",
    "sns.distplot(yest, ax=ax, hist=True)\n",
    "ax.set_xlabel('Price ($)')\n",
    "ax.set_ylabel('Density')\n",
    "ax.set_title('Distribution of price estimates for your pattern')\n",
    "ax.axvline(np.mean(yest), linestyle='--', color='red')\n",
    "#X.iloc[1].values.reshape(-1, 1).shape\n",
    "#xx = dict(zip(X.columns, X.iloc[1,:].values))\n",
    "#clf.named_steps['columntransformer'].fit_transform(pd.DataFrame(xx, index=[0]))\n"
   ]
  },
  {
   "cell_type": "code",
   "execution_count": 46,
   "metadata": {},
   "outputs": [
    {
     "name": "stderr",
     "output_type": "stream",
     "text": [
      "/Users/jason/anaconda3/envs/insight/lib/python3.7/site-packages/sklearn/pipeline.py:605: DataConversionWarning: Data with input dtype bool, int64, object were all converted to float64 by StandardScaler.\n",
      "  res = transformer.transform(X)\n"
     ]
    },
    {
     "name": "stdout",
     "output_type": "stream",
     "text": [
      "Model RMSE: 0.8354262867342235\n"
     ]
    },
    {
     "name": "stderr",
     "output_type": "stream",
     "text": [
      "/Users/jason/anaconda3/envs/insight/lib/python3.7/site-packages/sklearn/pipeline.py:605: DataConversionWarning: Data with input dtype bool, int64, object were all converted to float64 by StandardScaler.\n",
      "  res = transformer.transform(X)\n"
     ]
    },
    {
     "name": "stdout",
     "output_type": "stream",
     "text": [
      "Model MAE: 0.33009999999999984\n"
     ]
    },
    {
     "name": "stderr",
     "output_type": "stream",
     "text": [
      "/Users/jason/anaconda3/envs/insight/lib/python3.7/site-packages/sklearn/pipeline.py:605: DataConversionWarning: Data with input dtype bool, int64, object were all converted to float64 by StandardScaler.\n",
      "  res = transformer.transform(X)\n"
     ]
    },
    {
     "data": {
      "text/plain": [
       "(25760, 50)"
      ]
     },
     "execution_count": 46,
     "metadata": {},
     "output_type": "execute_result"
    }
   ],
   "source": [
    "print(f'Model RMSE: {np.sqrt(mean_squared_error(y_test, clf.predict(X_test)))}')\n",
    "print(f'Model MAE: {median_absolute_error(y_test, clf.predict(X_test))}')\n",
    "\n",
    "len(np.abs(y_test - clf.predict(X_test)/y_test))\n",
    "X_test.shape"
   ]
  },
  {
   "cell_type": "code",
   "execution_count": 47,
   "metadata": {},
   "outputs": [
    {
     "name": "stderr",
     "output_type": "stream",
     "text": [
      "/Users/jason/anaconda3/envs/insight/lib/python3.7/site-packages/pandas/core/indexing.py:362: SettingWithCopyWarning: \n",
      "A value is trying to be set on a copy of a slice from a DataFrame.\n",
      "Try using .loc[row_indexer,col_indexer] = value instead\n",
      "\n",
      "See the caveats in the documentation: http://pandas.pydata.org/pandas-docs/stable/user_guide/indexing.html#returning-a-view-versus-a-copy\n",
      "  self.obj[key] = _infer_fill_value(value)\n",
      "/Users/jason/anaconda3/envs/insight/lib/python3.7/site-packages/pandas/core/indexing.py:480: SettingWithCopyWarning: \n",
      "A value is trying to be set on a copy of a slice from a DataFrame.\n",
      "Try using .loc[row_indexer,col_indexer] = value instead\n",
      "\n",
      "See the caveats in the documentation: http://pandas.pydata.org/pandas-docs/stable/user_guide/indexing.html#returning-a-view-versus-a-copy\n",
      "  self.obj[item] = s\n"
     ]
    }
   ],
   "source": [
    "z = df2.groupby('pattern_type').agg({'price': 'median'}).reset_index()\n",
    "median_map = dict(zip(z.pattern_type, z.price))\n",
    "z2 = df2.groupby('pattern_type').agg({'price': 'mean'}).reset_index()\n",
    "mean_map = dict(zip(z2.pattern_type, z2.price))\n",
    "X_test.loc[:, 'cat_median'] = X_test.pattern_type.apply(lambda x: median_map[x])\n",
    "X_test.loc[:, 'cat_mean'] = X_test.pattern_type.apply(lambda x: mean_map[x])"
   ]
  },
  {
   "cell_type": "code",
   "execution_count": 49,
   "metadata": {},
   "outputs": [
    {
     "name": "stdout",
     "output_type": "stream",
     "text": [
      "RMSE of median benchmark: 1.5286292447851515\n",
      "RMSE of mean benchmark: 1.5146113442818279\n",
      "MAE of median benchmark: 1.0\n",
      "MAE of mean benchmark: 0.8281166628986281\n"
     ]
    }
   ],
   "source": [
    "print(f'RMSE of median benchmark: {np.sqrt(mean_squared_error(X_test.cat_median, y_test))}')\n",
    "print(f'RMSE of mean benchmark: {np.sqrt(mean_squared_error(X_test.cat_mean, y_test))}')\n",
    "print(f'MAE of median benchmark: {median_absolute_error(X_test.cat_median, y_test)}')\n",
    "print(f'MAE of mean benchmark: {median_absolute_error(X_test.cat_mean, y_test)}')"
   ]
  },
  {
   "cell_type": "code",
   "execution_count": null,
   "metadata": {},
   "outputs": [],
   "source": []
  },
  {
   "cell_type": "code",
   "execution_count": 58,
   "metadata": {},
   "outputs": [
    {
     "data": {
      "image/png": "[encoded data removed]",
      "text/plain": [
       "<Figure size 864x576 with 1 Axes>"
      ]
     },
     "metadata": {
      "needs_background": "light"
     },
     "output_type": "display_data"
    }
   ],
   "source": [
    "fig, ax = plt.subplots()\n",
    "fig.set_size_inches(12,8)\n",
    "sns.distplot(df2.price, kde=False)\n",
    "ax.set_xlabel(\"Pattern Price ($)\")\n",
    "ax.set_ylabel(\"Density\")\n",
    "ax.set_title('Knitting pattern prices')\n",
    "plt.savefig('pattern_prices.png')"
   ]
  },
  {
   "cell_type": "code",
   "execution_count": 71,
   "metadata": {},
   "outputs": [
    {
     "data": {
      "image/png": "[encoded data removed]",
      "text/plain": [
       "<Figure size 432x288 with 1 Axes>"
      ]
     },
     "metadata": {
      "needs_background": "light"
     },
     "output_type": "display_data"
    }
   ],
   "source": [
    "s = df2.groupby('pattern_type').agg({'price': lambda x: np.round(np.mean(x), 2)})\\\n",
    ".reset_index().sort_values('price', ascending=False)\n",
    "\n",
    "fig, ax = plt.subplots()\n",
    "sns.barplot(x=\"price\", y=\"pattern_type\", data=s, color=\"b\", ax=ax)\n",
    "ax.set_title('Average pattern price by category')\n",
    "fig.savefig('average_prices.png')"
   ]
  }
 ],
 "metadata": {
  "kernelspec": {
   "display_name": "Python 3",
   "language": "python",
   "name": "python3"
  },
  "language_info": {
   "codemirror_mode": {
    "name": "ipython",
    "version": 3
   },
   "file_extension": ".py",
   "mimetype": "text/x-python",
   "name": "python",
   "nbconvert_exporter": "python",
   "pygments_lexer": "ipython3",
   "version": "3.7.4"
  }
 },
 "nbformat": 4,
 "nbformat_minor": 2
}
