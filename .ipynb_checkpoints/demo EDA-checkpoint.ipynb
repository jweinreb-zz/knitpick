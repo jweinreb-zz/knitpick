{
 "cells": [
  {
   "cell_type": "code",
   "execution_count": 1,
   "metadata": {},
   "outputs": [],
   "source": [
    "import pandas as pd\n",
    "import numpy as np\n",
    "import seaborn as sns\n",
    "import matplotlib.pyplot as plt\n",
    "import psycopg2\n",
    "import os\n",
    "\n",
    "conn_dict = {'host': 'localhost',\n",
    "        'dbname': 'insight',\n",
    "        'user': os.getenv('PG_USER'),\n",
    "        'password': os.getenv('PG_PASSWORD')}\n",
    "\n",
    "with psycopg2.connect(**conn_dict) as conn, conn.cursor() as cur:\n",
    "    cur.execute('SELECT * FROM patterns3')\n",
    "    res = cur.fetchall()\n",
    "    cols = [desc[0] for desc in cur.description]\n",
    "\n",
    "df = pd.DataFrame(res, columns=cols)"
   ]
  },
  {
   "cell_type": "code",
   "execution_count": 16,
   "metadata": {},
   "outputs": [],
   "source": [
    "df.loc[:, 'pubyear'] = df.published.apply(lambda x: x.year if pd.notnull(x) else None)\n",
    "df.loc[:, 'buttoned_mod'] = df[['attribute_buttoned', 'attribute_buttonholes']].max(axis=1)"
   ]
  },
  {
   "cell_type": "code",
   "execution_count": 3,
   "metadata": {},
   "outputs": [],
   "source": [
    "patt_ann = df[pd.notnull(df.pubyear)].groupby('pubyear').count()\\\n",
    "                                     .reset_index()[['pubyear', 'comments_count']]\\\n",
    "                                     .rename(columns={'comments_count':'n_patterns'})\n",
    "patt_ann = patt_ann[patt_ann.pubyear.isin(np.arange(2000, 2019))]"
   ]
  },
  {
   "cell_type": "code",
   "execution_count": 4,
   "metadata": {},
   "outputs": [
    {
     "data": {
      "text/plain": [
       "([<matplotlib.axis.XTick at 0x1a3b897c90>,\n",
       "  <matplotlib.axis.XTick at 0x1a3b897350>,\n",
       "  <matplotlib.axis.XTick at 0x1a3b8afc90>,\n",
       "  <matplotlib.axis.XTick at 0x10dc8d450>,\n",
       "  <matplotlib.axis.XTick at 0x10dcc4390>,\n",
       "  <matplotlib.axis.XTick at 0x10dcc4910>,\n",
       "  <matplotlib.axis.XTick at 0x10dcc4810>],\n",
       " <a list of 7 Text xticklabel objects>)"
      ]
     },
     "execution_count": 4,
     "metadata": {},
     "output_type": "execute_result"
    },
    {
     "data": {
      "image/png": "[encoded data removed]",
      "text/plain": [
       "<Figure size 432x288 with 1 Axes>"
      ]
     },
     "metadata": {
      "needs_background": "light"
     },
     "output_type": "display_data"
    }
   ],
   "source": [
    "fig, ax = plt.subplots()\n",
    "sns.lineplot(x=\"pubyear\", y=\"n_patterns\", data=patt_ann, ax=ax)\n",
    "ax.set_xlabel('')\n",
    "ax.set_ylabel('# patterns')\n",
    "ax.set_title('Patterns published by year')\n",
    "plt.xticks(np.arange(2000, 2019, 3))\n",
    "#fig.savefig('pattern_by_year.png')"
   ]
  },
  {
   "cell_type": "code",
   "execution_count": 5,
   "metadata": {},
   "outputs": [],
   "source": [
    "proj_ann = df[pd.notnull(df.pubyear)].groupby('pubyear').count()\\\n",
    "                                     .reset_index()[['pubyear', 'comments_count']]\\\n",
    "                                     .rename(columns={'comments_count':'n_patterns'})\n",
    "patt_ann = patt_ann[patt_ann.pubyear.isin(np.arange(2000, 2019))]"
   ]
  },
  {
   "cell_type": "code",
   "execution_count": 7,
   "metadata": {},
   "outputs": [],
   "source": [
    "attribute_cols = [a for a in df.columns if a.startswith('attribute_')]\n",
    "att_df = df[attribute_cols].sum(axis=0).reset_index().sort_values(0, ascending=False)\n",
    "att_df.columns = ['attribute', 'pattern_count']\n",
    "att_df.loc[:, 'pattern_share'] = att_df.pattern_count / df.shape[0]\n",
    "att_df = att_df[att_df.pattern_share >= 0.05]"
   ]
  },
  {
   "cell_type": "code",
   "execution_count": 20,
   "metadata": {},
   "outputs": [],
   "source": [
    "attribute_cols = list(att_df.attribute[att_df.pattern_share >= 0.05])\n",
    "attribute_cols.remove('attribute_written_pattern')\n",
    "attribute_cols.remove('attribute_buttonholes')\n",
    "attribute_cols.remove('attribute_buttoned')"
   ]
  },
  {
   "cell_type": "code",
   "execution_count": 11,
   "metadata": {},
   "outputs": [
    {
     "data": {
      "text/plain": [
       "['needles_us_6',\n",
       " 'needles_us_7',\n",
       " 'needles_us_4',\n",
       " 'needles_us_8',\n",
       " 'needles_us_5',\n",
       " 'needles_us_3',\n",
       " 'needles_us_2h',\n",
       " 'needles_us_10',\n",
       " 'needles_us_9',\n",
       " 'needles_us_1h',\n",
       " 'needles_us_2',\n",
       " 'needles_us_1',\n",
       " 'needles_us_11',\n",
       " 'needles_us_10h',\n",
       " 'needles_us_13',\n",
       " 'needles_us_15',\n",
       " 'needles_us_0']"
      ]
     },
     "execution_count": 11,
     "metadata": {},
     "output_type": "execute_result"
    }
   ],
   "source": [
    "needles_cols = [n for n in df.columns if n.startswith('needle')]\n",
    "needles_df = df[needles_cols].sum(axis=0).reset_index().sort_values(0, ascending=False)\n",
    "needles_df.columns = ['needle', 'pattern_count']\n",
    "needles_df.loc[:, 'pattern_share'] = needles_df.pattern_count / df.shape[0]\n",
    "needles_df = needles_df[needles_df.pattern_share >= 0.01]\n",
    "needles_cols = list(needles_df.needle[needles_df.pattern_share >= 0.01])\n",
    "needles_cols"
   ]
  },
  {
   "cell_type": "code",
   "execution_count": 21,
   "metadata": {},
   "outputs": [],
   "source": [
    "numeric_cols = ['projects_count', 'queued_projects_count', 'rating_average','comments_count',\n",
    "                'difficulty_average','num_photos', 'author_pattern_count','author_favorites_count']\n",
    "cat_cols = ['pattern_type','yarn_weight']\n",
    "\n",
    "attribute_cols = ['buttoned_mod',\n",
    "                  'attribute_adult', #\n",
    "                  'attribute_female',#\n",
    "                  'attribute_worked_flat',#\n",
    "                  'attribute_worked_in_the_round',#\n",
    "                  'attribute_chart',#\n",
    "                  'attribute_bottom_up',#\n",
    "                  'attribute_one_piece',#\n",
    "                  'attribute_unisex',#\n",
    "                  'attribute_seamed',#\n",
    "                  'attribute_lace',#\n",
    "                  'attribute_teen',#\n",
    "                  'attribute_ribbed_ribbing',#\n",
    "                  'attribute_textured',#\n",
    "                  'attribute_cables',#\n",
    "                  'attribute_stripes_colorwork',#\n",
    "                  'attribute_top_down',#\n",
    "                  'attribute_child',#\n",
    "                  'attribute_long',#\n",
    "                  'attribute_stranded',#\n",
    "                  'attribute_baby',#\n",
    "                  'attribute_positive_ease',#\n",
    "                  'attribute_has_schematic',#\n",
    "                  'attribute_male',#\n",
    "                  'attribute_eyelets',#\n",
    "                  'attribute_toddler', #\n",
    "                  'attribute_fitted',#\n",
    "                  'attribute_short_rows']\n",
    "\n",
    "needles_cols = ['needles_us_6',\n",
    "                'needles_us_7',\n",
    "                'needles_us_4',\n",
    "                'needles_us_8',\n",
    "                'needles_us_5',\n",
    "                'needles_us_3',\n",
    "                'needles_us_2h',\n",
    "                'needles_us_10',\n",
    "                'needles_us_9',\n",
    "                'needles_us_1h',\n",
    "                'needles_us_2',\n",
    "                'needles_us_1',\n",
    "                'needles_us_11',\n",
    "                'needles_us_10h',\n",
    "                'needles_us_13',\n",
    "                'needles_us_15',\n",
    "                'needles_us_0']"
   ]
  },
  {
   "cell_type": "code",
   "execution_count": 22,
   "metadata": {},
   "outputs": [],
   "source": [
    "df2 = df[pd.notnull(df.price) & (df.currency == 'USD') & (df.price <= 17)]\n",
    "\n",
    "df2.loc[:, 'price'] = df2.price.apply(lambda x: float(x) if pd.notnull(x) else 0)"
   ]
  },
  {
   "cell_type": "code",
   "execution_count": 23,
   "metadata": {},
   "outputs": [],
   "source": [
    "df3 = df2[attribute_cols + needles_cols + numeric_cols + cat_cols]"
   ]
  },
  {
   "cell_type": "code",
   "execution_count": 28,
   "metadata": {},
   "outputs": [],
   "source": [
    "from sklearn.decomposition import PCA\n",
    "from sklearn.pipeline import make_pipeline\n",
    "from sklearn.compose import ColumnTransformer, make_column_transformer\n",
    "from sklearn.preprocessing import StandardScaler, OneHotEncoder\n",
    "\n",
    "cats = [list(set(df3.pattern_type)),list(set(df3.yarn_weight))]\n",
    "\n",
    "preprocess = make_column_transformer(\n",
    "    (StandardScaler(), numeric_cols + attribute_cols + needles_cols),\n",
    "    (OneHotEncoder(categories=cats), cat_cols))\n",
    "\n",
    "pca = PCA(n_components=2)\n",
    "pca_pipe = make_pipeline(preprocess, pca)"
   ]
  },
  {
   "cell_type": "code",
   "execution_count": 29,
   "metadata": {},
   "outputs": [
    {
     "name": "stderr",
     "output_type": "stream",
     "text": [
      "/Users/jason/anaconda3/envs/insight/lib/python3.7/site-packages/sklearn/preprocessing/data.py:645: DataConversionWarning: Data with input dtype bool, int64, object were all converted to float64 by StandardScaler.\n",
      "  return self.partial_fit(X, y)\n",
      "/Users/jason/anaconda3/envs/insight/lib/python3.7/site-packages/sklearn/base.py:464: DataConversionWarning: Data with input dtype bool, int64, object were all converted to float64 by StandardScaler.\n",
      "  return self.fit(X, **fit_params).transform(X)\n"
     ]
    },
    {
     "data": {
      "text/plain": [
       "Pipeline(memory=None,\n",
       "     steps=[('columntransformer', ColumnTransformer(n_jobs=None, remainder='drop', sparse_threshold=0.3,\n",
       "         transformer_weights=None,\n",
       "         transformers=[('standardscaler', StandardScaler(copy=True, with_mean=True, with_std=True), ['projects_count', 'queued_projects_count', 'rating_average', 'co...rated_power='auto', n_components=2, random_state=None,\n",
       "  svd_solver='auto', tol=0.0, whiten=False))])"
      ]
     },
     "execution_count": 29,
     "metadata": {},
     "output_type": "execute_result"
    }
   ],
   "source": [
    "pca_pipe.fit(df3)"
   ]
  },
  {
   "cell_type": "code",
   "execution_count": 51,
   "metadata": {},
   "outputs": [
    {
     "name": "stderr",
     "output_type": "stream",
     "text": [
      "/Users/jason/anaconda3/envs/insight/lib/python3.7/site-packages/sklearn/preprocessing/data.py:645: DataConversionWarning: Data with input dtype bool, int64, object were all converted to float64 by StandardScaler.\n",
      "  return self.partial_fit(X, y)\n",
      "/Users/jason/anaconda3/envs/insight/lib/python3.7/site-packages/sklearn/base.py:464: DataConversionWarning: Data with input dtype bool, int64, object were all converted to float64 by StandardScaler.\n",
      "  return self.fit(X, **fit_params).transform(X)\n"
     ]
    }
   ],
   "source": [
    "X_pca = pca_pipe.fit_transform(df3)\n",
    "z = pd.DataFrame(X_pca)\n",
    "z.loc[:, 'price'] = np.array(df2['price'])\n",
    "\n",
    "#import matplotlib.pyplot as plt\n",
    "#plt.scatter(X_pca[:, 0], X_pca[:, 1])"
   ]
  },
  {
   "cell_type": "code",
   "execution_count": 55,
   "metadata": {},
   "outputs": [
    {
     "data": {
      "text/plain": [
       "<matplotlib.axes._subplots.AxesSubplot at 0x1a4607a4d0>"
      ]
     },
     "execution_count": 55,
     "metadata": {},
     "output_type": "execute_result"
    },
    {
     "data": {
      "image/png": "[encoded data removed]",
      "text/plain": [
       "<Figure size 432x288 with 1 Axes>"
      ]
     },
     "metadata": {
      "needs_background": "light"
     },
     "output_type": "display_data"
    }
   ],
   "source": [
    "import matplotlib.pyplot as plt\n",
    "import seaborn as sns\n",
    "sns.scatterplot(x=0, y=1, hue='price', size='price', data=z)"
   ]
  },
  {
   "cell_type": "code",
   "execution_count": 58,
   "metadata": {},
   "outputs": [
    {
     "data": {
      "image/png": "[encoded data removed]",
      "text/plain": [
       "<Figure size 864x576 with 1 Axes>"
      ]
     },
     "metadata": {
      "needs_background": "light"
     },
     "output_type": "display_data"
    }
   ],
   "source": [
    "fig, ax = plt.subplots()\n",
    "fig.set_size_inches(12,8)\n",
    "sns.distplot(df2.price, kde=False)\n",
    "ax.set_xlabel(\"Pattern Price ($)\")\n",
    "ax.set_ylabel(\"Density\")\n",
    "ax.set_title('Knitting pattern prices')\n",
    "plt.savefig('pattern_prices.png')"
   ]
  },
  {
   "cell_type": "code",
   "execution_count": 71,
   "metadata": {},
   "outputs": [
    {
     "data": {
      "image/png": "[encoded data removed]",
      "text/plain": [
       "<Figure size 432x288 with 1 Axes>"
      ]
     },
     "metadata": {
      "needs_background": "light"
     },
     "output_type": "display_data"
    }
   ],
   "source": [
    "s = df2.groupby('pattern_type').agg({'price': lambda x: np.round(np.mean(x), 2)})\\\n",
    ".reset_index().sort_values('price', ascending=False)\n",
    "\n",
    "fig, ax = plt.subplots()\n",
    "sns.barplot(x=\"price\", y=\"pattern_type\", data=s, color=\"b\", ax=ax)\n",
    "ax.set_title('Average pattern price by category')\n",
    "fig.savefig('average_prices.png')"
   ]
  },
  {
   "cell_type": "code",
   "execution_count": 15,
   "metadata": {},
   "outputs": [
    {
     "data": {
      "text/html": [
       "<div>\n",
       "<style scoped>\n",
       "    .dataframe tbody tr th:only-of-type {\n",
       "        vertical-align: middle;\n",
       "    }\n",
       "\n",
       "    .dataframe tbody tr th {\n",
       "        vertical-align: top;\n",
       "    }\n",
       "\n",
       "    .dataframe thead th {\n",
       "        text-align: right;\n",
       "    }\n",
       "</style>\n",
       "<table border=\"1\" class=\"dataframe\">\n",
       "  <thead>\n",
       "    <tr style=\"text-align: right;\">\n",
       "      <th></th>\n",
       "      <th>attribute_written_pattern</th>\n",
       "      <th>attribute_adult</th>\n",
       "      <th>attribute_female</th>\n",
       "      <th>attribute_worked_flat</th>\n",
       "      <th>attribute_worked_in_the_round</th>\n",
       "      <th>attribute_chart</th>\n",
       "      <th>attribute_bottom_up</th>\n",
       "      <th>attribute_one_piece</th>\n",
       "      <th>attribute_seamless</th>\n",
       "      <th>attribute_unisex</th>\n",
       "      <th>...</th>\n",
       "      <th>projects_count</th>\n",
       "      <th>queued_projects_count</th>\n",
       "      <th>rating_average</th>\n",
       "      <th>comments_count</th>\n",
       "      <th>difficulty_average</th>\n",
       "      <th>num_photos</th>\n",
       "      <th>author_pattern_count</th>\n",
       "      <th>author_favorites_count</th>\n",
       "      <th>pattern_type</th>\n",
       "      <th>yarn_weight</th>\n",
       "    </tr>\n",
       "  </thead>\n",
       "  <tbody>\n",
       "    <tr>\n",
       "      <th>0</th>\n",
       "      <td>False</td>\n",
       "      <td>False</td>\n",
       "      <td>False</td>\n",
       "      <td>False</td>\n",
       "      <td>False</td>\n",
       "      <td>False</td>\n",
       "      <td>False</td>\n",
       "      <td>False</td>\n",
       "      <td>False</td>\n",
       "      <td>False</td>\n",
       "      <td>...</td>\n",
       "      <td>8</td>\n",
       "      <td>11</td>\n",
       "      <td>0</td>\n",
       "      <td>0</td>\n",
       "      <td>0</td>\n",
       "      <td>5</td>\n",
       "      <td>171</td>\n",
       "      <td>390</td>\n",
       "      <td>hat</td>\n",
       "      <td>Fingering</td>\n",
       "    </tr>\n",
       "    <tr>\n",
       "      <th>1</th>\n",
       "      <td>True</td>\n",
       "      <td>False</td>\n",
       "      <td>False</td>\n",
       "      <td>False</td>\n",
       "      <td>False</td>\n",
       "      <td>False</td>\n",
       "      <td>False</td>\n",
       "      <td>True</td>\n",
       "      <td>False</td>\n",
       "      <td>False</td>\n",
       "      <td>...</td>\n",
       "      <td>32</td>\n",
       "      <td>11</td>\n",
       "      <td>4.666666666666667</td>\n",
       "      <td>0</td>\n",
       "      <td>1.5</td>\n",
       "      <td>2</td>\n",
       "      <td>100</td>\n",
       "      <td>4053</td>\n",
       "      <td>hat</td>\n",
       "      <td>Worsted</td>\n",
       "    </tr>\n",
       "    <tr>\n",
       "      <th>5</th>\n",
       "      <td>False</td>\n",
       "      <td>False</td>\n",
       "      <td>False</td>\n",
       "      <td>False</td>\n",
       "      <td>False</td>\n",
       "      <td>False</td>\n",
       "      <td>False</td>\n",
       "      <td>False</td>\n",
       "      <td>False</td>\n",
       "      <td>True</td>\n",
       "      <td>...</td>\n",
       "      <td>0</td>\n",
       "      <td>5</td>\n",
       "      <td>0</td>\n",
       "      <td>0</td>\n",
       "      <td>0</td>\n",
       "      <td>1</td>\n",
       "      <td>870</td>\n",
       "      <td>1822</td>\n",
       "      <td>hat</td>\n",
       "      <td>None</td>\n",
       "    </tr>\n",
       "    <tr>\n",
       "      <th>6</th>\n",
       "      <td>True</td>\n",
       "      <td>True</td>\n",
       "      <td>False</td>\n",
       "      <td>False</td>\n",
       "      <td>True</td>\n",
       "      <td>False</td>\n",
       "      <td>True</td>\n",
       "      <td>True</td>\n",
       "      <td>True</td>\n",
       "      <td>True</td>\n",
       "      <td>...</td>\n",
       "      <td>2</td>\n",
       "      <td>1</td>\n",
       "      <td>0</td>\n",
       "      <td>0</td>\n",
       "      <td>0</td>\n",
       "      <td>1</td>\n",
       "      <td>83</td>\n",
       "      <td>66</td>\n",
       "      <td>hat</td>\n",
       "      <td>Worsted</td>\n",
       "    </tr>\n",
       "    <tr>\n",
       "      <th>14</th>\n",
       "      <td>True</td>\n",
       "      <td>False</td>\n",
       "      <td>True</td>\n",
       "      <td>True</td>\n",
       "      <td>True</td>\n",
       "      <td>False</td>\n",
       "      <td>True</td>\n",
       "      <td>True</td>\n",
       "      <td>True</td>\n",
       "      <td>False</td>\n",
       "      <td>...</td>\n",
       "      <td>5</td>\n",
       "      <td>3</td>\n",
       "      <td>0</td>\n",
       "      <td>0</td>\n",
       "      <td>0</td>\n",
       "      <td>7</td>\n",
       "      <td>319</td>\n",
       "      <td>245</td>\n",
       "      <td>hat</td>\n",
       "      <td>DK</td>\n",
       "    </tr>\n",
       "  </tbody>\n",
       "</table>\n",
       "<p>5 rows × 58 columns</p>\n",
       "</div>"
      ],
      "text/plain": [
       "    attribute_written_pattern  attribute_adult  attribute_female  \\\n",
       "0                       False            False             False   \n",
       "1                        True            False             False   \n",
       "5                       False            False             False   \n",
       "6                        True             True             False   \n",
       "14                       True            False              True   \n",
       "\n",
       "    attribute_worked_flat  attribute_worked_in_the_round  attribute_chart  \\\n",
       "0                   False                          False            False   \n",
       "1                   False                          False            False   \n",
       "5                   False                          False            False   \n",
       "6                   False                           True            False   \n",
       "14                   True                           True            False   \n",
       "\n",
       "    attribute_bottom_up  attribute_one_piece  attribute_seamless  \\\n",
       "0                 False                False               False   \n",
       "1                 False                 True               False   \n",
       "5                 False                False               False   \n",
       "6                  True                 True                True   \n",
       "14                 True                 True                True   \n",
       "\n",
       "    attribute_unisex  ...  projects_count  queued_projects_count  \\\n",
       "0              False  ...               8                     11   \n",
       "1              False  ...              32                     11   \n",
       "5               True  ...               0                      5   \n",
       "6               True  ...               2                      1   \n",
       "14             False  ...               5                      3   \n",
       "\n",
       "       rating_average  comments_count  difficulty_average  num_photos  \\\n",
       "0                   0               0                   0           5   \n",
       "1   4.666666666666667               0                 1.5           2   \n",
       "5                   0               0                   0           1   \n",
       "6                   0               0                   0           1   \n",
       "14                  0               0                   0           7   \n",
       "\n",
       "    author_pattern_count  author_favorites_count  pattern_type  yarn_weight  \n",
       "0                    171                     390           hat    Fingering  \n",
       "1                    100                    4053           hat      Worsted  \n",
       "5                    870                    1822           hat         None  \n",
       "6                     83                      66           hat      Worsted  \n",
       "14                   319                     245           hat           DK  \n",
       "\n",
       "[5 rows x 58 columns]"
      ]
     },
     "execution_count": 15,
     "metadata": {},
     "output_type": "execute_result"
    }
   ],
   "source": [
    "df3.head()"
   ]
  },
  {
   "cell_type": "code",
   "execution_count": null,
   "metadata": {},
   "outputs": [],
   "source": []
  }
 ],
 "metadata": {
  "kernelspec": {
   "display_name": "Python 3",
   "language": "python",
   "name": "python3"
  },
  "language_info": {
   "codemirror_mode": {
    "name": "ipython",
    "version": 3
   },
   "file_extension": ".py",
   "mimetype": "text/x-python",
   "name": "python",
   "nbconvert_exporter": "python",
   "pygments_lexer": "ipython3",
   "version": "3.7.4"
  }
 },
 "nbformat": 4,
 "nbformat_minor": 2
}
